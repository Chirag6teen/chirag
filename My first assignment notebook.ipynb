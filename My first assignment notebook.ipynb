{
    "nbformat_minor": 1, 
    "cells": [
        {
            "source": "   **My Jupyter Notebook on IBM Data Science Experience**", 
            "cell_type": "markdown", 
            "metadata": {}
        }, 
        {
            "source": " **Chirag Lalwani**\n \n   freelencers", 
            "cell_type": "markdown", 
            "metadata": {}
        }, 
        {
            "source": "*I am interested in Data science beacuse want to become data analyst as too curious to know all about data science*", 
            "cell_type": "markdown", 
            "metadata": {}
        }, 
        {
            "source": "The code used are to assign a to x and b to y and print output of x+y", 
            "cell_type": "markdown", 
            "metadata": {}
        }, 
        {
            "execution_count": 4, 
            "cell_type": "code", 
            "metadata": {}, 
            "outputs": [
                {
                    "output_type": "stream", 
                    "name": "stdout", 
                    "text": "ab\n"
                }
            ], 
            "source": "x = \"a\"\ny = \"b\"\nprint (x+y)\n\n"
        }, 
        {
            "source": "~~syntax error.~~\n\n* Bullet list\n\n1.Number list\n", 
            "cell_type": "markdown", 
            "metadata": {}
        }, 
        {
            "execution_count": null, 
            "cell_type": "code", 
            "metadata": {}, 
            "outputs": [], 
            "source": ""
        }
    ], 
    "metadata": {
        "kernelspec": {
            "display_name": "Python 3.5", 
            "name": "python3", 
            "language": "python"
        }, 
        "language_info": {
            "mimetype": "text/x-python", 
            "nbconvert_exporter": "python", 
            "version": "3.5.5", 
            "name": "python", 
            "file_extension": ".py", 
            "pygments_lexer": "ipython3", 
            "codemirror_mode": {
                "version": 3, 
                "name": "ipython"
            }
        }
    }, 
    "nbformat": 4
}